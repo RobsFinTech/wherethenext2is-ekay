{
 "cells": [
  {
   "cell_type": "markdown",
   "id": "e42ea418",
   "metadata": {},
   "source": [
    "# Discord Polygon"
   ]
  },
  {
   "cell_type": "code",
   "execution_count": 1,
   "id": "246ff1c2",
   "metadata": {},
   "outputs": [],
   "source": [
    "# Import required packages\n",
    "\n",
    "from helper import *\n",
    "import pandas as pd\n",
    "import plotly.graph_objs as go\n",
    "from polygon_ import *\n",
    "from pprint import pprint"
   ]
  },
  {
   "cell_type": "code",
   "execution_count": 2,
   "id": "efc99c51",
   "metadata": {},
   "outputs": [],
   "source": [
    "# Handle async use in Jupyter Notebook\n",
    "\n",
    "import nest_asyncio\n",
    "nest_asyncio.apply()"
   ]
  },
  {
   "cell_type": "code",
   "execution_count": 3,
   "id": "702bb68e",
   "metadata": {},
   "outputs": [
    {
     "name": "stdout",
     "output_type": "stream",
     "text": [
      "['4-Hour', '1-Day', '2-Day', '1-Week', '2-Week', '3-Week', '1-Month', '1-Quarter', '6-Month', '1-Year']\n",
      "\n",
      "['minute', 'hour', 'day', 'week', 'month', 'quarter', 'year']\n",
      "\n",
      "['doji', 'doubleinside', 'gapper', 'hammer', 'holygrail', 'inrev', 'inside', 'momohammer', 'nirvana', 'outrev', 'outside', 'po', 'rev', 'shooter']\n"
     ]
    }
   ],
   "source": [
    "# Show supported timeframes\n",
    "\n",
    "print(timeframes)\n",
    "print(\"\")\n",
    "print(timespans)\n",
    "print(\"\")\n",
    "print(patterns)"
   ]
  },
  {
   "cell_type": "code",
   "execution_count": 4,
   "id": "8ba6f9c8",
   "metadata": {},
   "outputs": [],
   "source": [
    "# User input parameters\n",
    "\n",
    "ticker = \"VIV\"\n",
    "timeframe = \"4-Hour\"\n",
    "pattern = \"doubleinside\""
   ]
  },
  {
   "cell_type": "code",
   "execution_count": 5,
   "id": "7e88b58c",
   "metadata": {},
   "outputs": [
    {
     "name": "stderr",
     "output_type": "stream",
     "text": [
      "Unclosed client session\n",
      "client_session: <aiohttp.client.ClientSession object at 0x000001B311265E90>\n",
      "Unclosed connector\n",
      "connections: ['[(<aiohttp.client_proto.ResponseHandler object at 0x000001B311260AD0>, 27879.25)]']\n",
      "connector: <aiohttp.connector.TCPConnector object at 0x000001B311284B50>\n"
     ]
    },
    {
     "data": {
      "text/plain": [
       "[Timestamp('2025-03-14 21:30:00'),\n",
       " Timestamp('2025-03-14 19:30:00'),\n",
       " Timestamp('2025-03-14 19:00:00'),\n",
       " Timestamp('2025-03-14 18:30:00'),\n",
       " Timestamp('2025-03-14 18:00:00'),\n",
       " Timestamp('2025-03-14 17:30:00'),\n",
       " Timestamp('2025-03-14 17:00:00'),\n",
       " Timestamp('2025-03-14 16:30:00'),\n",
       " Timestamp('2025-03-14 16:00:00'),\n",
       " Timestamp('2025-03-14 15:30:00'),\n",
       " Timestamp('2025-03-14 15:00:00'),\n",
       " Timestamp('2025-03-14 14:30:00'),\n",
       " Timestamp('2025-03-14 14:00:00'),\n",
       " Timestamp('2025-03-14 13:30:00'),\n",
       " Timestamp('2025-03-14 13:00:00')]"
      ]
     },
     "execution_count": 5,
     "metadata": {},
     "output_type": "execute_result"
    }
   ],
   "source": [
    "# Get data\n",
    "\n",
    "if timeframe not in timeframes:\n",
    "    print(f\"Error: timeframe={timeframe} not in {timeframes}\")\n",
    "interval, timespan = timeframe.split(\"-\")\n",
    "timespan = str(timespan).lower()\n",
    "data = await fetch_stock_data(\n",
    "    session=None, ticker=ticker, multiplier=interval, timespan=timespan, from_date=None, to_date=None, \n",
    "    adjusted=True, sort=\"desc\", limit=5000\n",
    ")\n",
    "if \"results\" not in data:\n",
    "    print(f\"Error: data={data}\")\n",
    "results = data.get(\"results\",[])\n",
    "times1 = [pd.to_datetime(item.get(\"t\",0), unit=\"ms\") for item in results]\n",
    "times1 # Before resample"
   ]
  },
  {
   "cell_type": "code",
   "execution_count": 6,
   "id": "2be3a13c",
   "metadata": {},
   "outputs": [
    {
     "data": {
      "text/plain": [
       "[Timestamp('2025-03-14 17:30:00'), Timestamp('2025-03-14 13:30:00')]"
      ]
     },
     "execution_count": 6,
     "metadata": {},
     "output_type": "execute_result"
    }
   ],
   "source": [
    "# Timeframe resample\n",
    "\n",
    "if timeframe in timeframes_resampled:\n",
    "    results2 = resample_results(results, new_timeframe=timeframe)\n",
    "else:\n",
    "    results2 = results\n",
    "times2 = [pd.to_datetime(item.get(\"t\",0), unit=\"ms\") for item in results2]\n",
    "times2 # After resample"
   ]
  },
  {
   "cell_type": "code",
   "execution_count": 7,
   "id": "d16b2105",
   "metadata": {},
   "outputs": [
    {
     "name": "stdout",
     "output_type": "stream",
     "text": [
      "[{'c': 8.84,\n",
      "  'h': 8.915,\n",
      "  'l': 8.83,\n",
      "  'n': 6269.0,\n",
      "  'o': 8.91,\n",
      "  't': 1741973400000.0,\n",
      "  'v': 584324.0,\n",
      "  'vw': 8.858},\n",
      " {'c': 8.905,\n",
      "  'h': 8.93,\n",
      "  'l': 8.66,\n",
      "  'n': 9873.0,\n",
      "  'o': 8.7,\n",
      "  't': 1741959000000.0,\n",
      "  'v': 1033590.0,\n",
      "  'vw': 8.9113}]\n"
     ]
    },
    {
     "ename": "TypeError",
     "evalue": "is_doubleinside() missing 1 required positional argument: 'candle_3'",
     "output_type": "error",
     "traceback": [
      "\u001b[1;31m---------------------------------------------------------------------------\u001b[0m",
      "\u001b[1;31mTypeError\u001b[0m                                 Traceback (most recent call last)",
      "Cell \u001b[1;32mIn[7], line 12\u001b[0m\n\u001b[0;32m     10\u001b[0m results2 \u001b[38;5;241m=\u001b[39m results2[:candles_nbr]\n\u001b[0;32m     11\u001b[0m pprint(results2)\n\u001b[1;32m---> 12\u001b[0m has_pattern \u001b[38;5;241m=\u001b[39m pattern_func(\u001b[38;5;241m*\u001b[39mresults2)\n\u001b[0;32m     13\u001b[0m pt \u001b[38;5;241m=\u001b[39m \u001b[38;5;124m\"\u001b[39m\u001b[38;5;124mDO\u001b[39m\u001b[38;5;124m\"\u001b[39m \u001b[38;5;28;01mif\u001b[39;00m has_pattern \u001b[38;5;28;01melse\u001b[39;00m \u001b[38;5;124m\"\u001b[39m\u001b[38;5;124mDO NOT\u001b[39m\u001b[38;5;124m\"\u001b[39m\n\u001b[0;32m     14\u001b[0m \u001b[38;5;28mprint\u001b[39m(\u001b[38;5;124m\"\u001b[39m\u001b[38;5;124m\"\u001b[39m)\n",
      "\u001b[1;31mTypeError\u001b[0m: is_doubleinside() missing 1 required positional argument: 'candle_3'"
     ]
    }
   ],
   "source": [
    "# Pattern check\n",
    "\n",
    "pattern_func_name = f\"is_{pattern}\"\n",
    "pattern_func = globals().get(pattern_func_name)\n",
    "if not pattern_func:\n",
    "    print(f\"Error: Could not find {pattern_func_name} in globals\")\n",
    "if pattern not in pattern_candles_dict:\n",
    "    print(f\"Error: pattern={pattern}, not found in {pattern_candles_dict}\")\n",
    "candles_nbr = pattern_candles_dict.get(pattern,1)\n",
    "results2 = results2[:candles_nbr]\n",
    "pprint(results2)\n",
    "has_pattern = pattern_func(*results2)\n",
    "pt = \"DO\" if has_pattern else \"DO NOT\"\n",
    "print(\"\")\n",
    "print(f\"The {candles_nbr} most recent candles for ticker {ticker} on the {timeframe} timeframe {pt} have the {pattern} pattern\")"
   ]
  },
  {
   "cell_type": "code",
   "execution_count": null,
   "id": "3e872391",
   "metadata": {},
   "outputs": [],
   "source": [
    "# Create dataframe (before resample)\n",
    "\n",
    "df = pd.DataFrame(data=results)\n",
    "df[\"datetime\"] = pd.to_datetime(df[\"t\"], unit=\"ms\")\n",
    "df = df.sort_values(by=\"datetime\", ascending=True, ignore_index=True) # Must be in ascending order for chart\n",
    "df"
   ]
  },
  {
   "cell_type": "code",
   "execution_count": null,
   "id": "3c9e8771",
   "metadata": {},
   "outputs": [],
   "source": [
    "# Create dataframe (after resample)\n",
    "\n",
    "df = pd.DataFrame(data=results2)\n",
    "df[\"datetime\"] = pd.to_datetime(df[\"t\"], unit=\"ms\")\n",
    "df = df.sort_values(by=\"datetime\", ascending=True, ignore_index=True) # Must be in ascending order for chart\n",
    "df"
   ]
  },
  {
   "cell_type": "code",
   "execution_count": null,
   "id": "63230413",
   "metadata": {},
   "outputs": [],
   "source": [
    "# Visual check\n",
    "\n",
    "tick_interval = max(1, len(df) // 10)  # Show labels for approximately 10 points\n",
    "tickvals = df[\"datetime\"][::tick_interval]  # Select every nth value\n",
    "ticktext = [pd.to_datetime(t).strftime('%H:%M') for t in tickvals]\n",
    "\n",
    "trace1 = go.Candlestick(\n",
    "    x = df[\"datetime\"],\n",
    "    open = df[\"o\"],\n",
    "    high = df[\"h\"],\n",
    "    low = df[\"l\"],\n",
    "    close = df[\"c\"],\n",
    "    name = \"candles\",\n",
    "    increasing = dict(\n",
    "        line = dict(\n",
    "            color = '#9FFE36'\n",
    "        ),\n",
    "        fillcolor = '#9FFE36'\n",
    "    ),\n",
    "    decreasing = dict(\n",
    "        line = dict(\n",
    "            color = '#AF121A'\n",
    "        ), \n",
    "        fillcolor = '#AF121A'\n",
    "    ),\n",
    "    customdata = df[\"datetime\"],  # Pass the formatted datetime to customdata\n",
    "    hoverinfo = \"text\",  # Enable custom text for hover\n",
    "    text = (\n",
    "        \"Date/Time: \" + df[\"datetime\"].astype(str) + \"<br>\" +\n",
    "        \"Open: \" + df[\"o\"].astype(str) + \"<br>\" +\n",
    "        \"High: \" + df[\"h\"].astype(str) + \"<br>\" +\n",
    "        \"Low: \" + df[\"l\"].astype(str) + \"<br>\" +\n",
    "        \"Close: \" + df[\"c\"].astype(str)\n",
    "    )\n",
    ")\n",
    "\n",
    "traces = [trace1]\n",
    "\n",
    "# Create layout\n",
    "\n",
    "layout = dict(\n",
    "    title = f'Candle Bars for symbol {ticker} on {timeframe} timeframe',\n",
    "    plot_bgcolor = '#000000',  # Set plot area background to black\n",
    "    paper_bgcolor = '#a9a9a9',  # Set overall figure background to dark gray\n",
    "    xaxis = dict(\n",
    "        title = 'Datetime', # Datetime\n",
    "        rangeslider_visible = False,\n",
    "        type = \"date\", # [\"date\",\"category\"]\n",
    "        showgrid = False,\n",
    "#         tickvals = tickvals,\n",
    "#         ticktext = ticktext,\n",
    "        # tickformat = \"%H:%M\",\n",
    "        tickangle = 45,\n",
    "    ),\n",
    "    yaxis = dict(\n",
    "        title = 'Price',\n",
    "        tickformat = \"$,.2f\",\n",
    "        showgrid = False,\n",
    "    )\n",
    ")\n",
    "\n",
    "# Create figure\n",
    "\n",
    "fig = go.Figure(\n",
    "    data = traces,\n",
    "    layout = layout\n",
    ")\n",
    "\n",
    "# Show figure\n",
    "\n",
    "fig.show()"
   ]
  },
  {
   "cell_type": "code",
   "execution_count": null,
   "id": "6eddb7a5",
   "metadata": {},
   "outputs": [],
   "source": [
    "# END"
   ]
  }
 ],
 "metadata": {
  "kernelspec": {
   "display_name": "Python 3 (ipykernel)",
   "language": "python",
   "name": "python3"
  },
  "language_info": {
   "codemirror_mode": {
    "name": "ipython",
    "version": 3
   },
   "file_extension": ".py",
   "mimetype": "text/x-python",
   "name": "python",
   "nbconvert_exporter": "python",
   "pygments_lexer": "ipython3",
   "version": "3.11.5"
  }
 },
 "nbformat": 4,
 "nbformat_minor": 5
}
